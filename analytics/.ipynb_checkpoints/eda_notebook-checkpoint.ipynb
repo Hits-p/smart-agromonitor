{
 "cells": [
  {
   "cell_type": "code",
   "execution_count": null,
   "id": "ac11a32d",
   "metadata": {
    "vscode": {
     "languageId": "plaintext"
    }
   },
   "outputs": [],
   "source": [
    "import pandas as pd\n",
    "import matplotlib.pyplot as plt\n",
    "import seaborn as sns\n",
    "import psycopg2\n",
    "\n",
    "conn = psycopg2.connect(\n",
    "    dbname=\"agro_db\", user=\"postgres\", password=\"postgres\", host=\"localhost\", port=\"5432\"\n",
    ")\n",
    "data = pd.read_sql(\"SELECT * FROM sensor_data\", conn)\n",
    "\n",
    "# Basic stats\n",
    "print(data.describe())\n",
    "\n",
    "# Plot temperature trends\n",
    "sns.lineplot(x='timestamp', y='temperature', data=data)\n",
    "plt.title(\"Temperature Over Time\")\n",
    "plt.xticks(rotation=45)\n",
    "plt.show()"
   ]
  }
 ],
 "metadata": {
  "language_info": {
   "name": "python"
  }
 },
 "nbformat": 4,
 "nbformat_minor": 5
}
